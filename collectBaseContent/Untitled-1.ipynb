{
 "cells": [
  {
   "cell_type": "code",
   "execution_count": 1,
   "metadata": {},
   "outputs": [],
   "source": [
    "#!/miniconda3/envs/imggen/python.exe 3.12.3\n",
    "from ChatGPTAutomationHandler import ChatGPTAutomation\n",
    "import os\n",
    "from selenium.webdriver.common.keys import Keys\n",
    "import os\n",
    "import socket\n",
    "import threading\n",
    "import time\n",
    "\n",
    "from selenium import webdriver\n",
    "from selenium.webdriver.common.by import By\n",
    "\n",
    "from selenium.webdriver.common.keys import Keys\n",
    "import requests\n",
    "import sys\n",
    "#sys.path.append('C:\\\\Users\\\\Abdul\\\\VSCODE_Projects\\\\Youtube-Generator\\\\Imgtovideo')\n",
    "#from MakeSamples import StartAnimation\n",
    "\n",
    "def selectGPTChatAndUsePrompt(chatgpt,gpt_chat,setup_prompt, text):\n",
    "    input_box = chatgpt.driver.find_element(by=By.XPATH, value=f\"//div[contains(text(), '{gpt_chat}')]\")\n",
    "    input_box.click()\n",
    "    full_prompt = setup_prompt + text\n",
    "    time.sleep(7)\n",
    "    chatgpt.driver.find_element(By.ID, \"prompt-textarea\").send_keys(full_prompt)\n",
    "\n",
    "\n",
    "def doSCPImgPromptFromURL(scpUrl,chatgpt,saveFolder):\n",
    "\n",
    "    driver = webdriver.Chrome()\n",
    "    driver.get(scpUrl)\n",
    "    div_element = driver.find_element(By.ID,'page-content')\n",
    "    # Get the text of the div element\n",
    "    div_text = div_element.text\n",
    "    # Split the text into lines\n",
    "    lines = div_text.split('\\n')\n",
    "    # Get all lines except the first one and last 2\n",
    "    lines_after_first = lines[1:]\n",
    "    lines_before_end = lines_after_first[:-2]\n",
    "    page = ''\n",
    "    for i in lines_before_end:\n",
    "        page = page + ' ' + i\n",
    "    print(page)\n",
    "    setup_prompt = \"Turn This into a script, pretend the narrator is glados from portal have her discuss tests that were ran and tests to run. Feel free to take creative liberties, be creative and feel free to add things you think would enrich the narrative of glados and her love for brutal testing :\"\n",
    "    selectGPTChatAndUsePrompt(chatgpt,'Bees Swarm Containment Procedure',setup_prompt, page)\n",
    "    time.sleep(66)\n",
    "    resp = chatgpt.return_last_response_element()\n",
    "    respneeded = resp.text\n",
    "    # Split the text into lines\n",
    "    lines = respneeded.split('\\n')\n",
    "    ines_after_first = lines[1:]\n",
    "    lines_before_end = lines_after_first[:-2]\n",
    "    # Join the lines back into a single string\n",
    "    script = ''\n",
    "    setup_prompt = r\"Hello ChatGPT, I have a story script that I'd like to convert into prompts for generating images with DALL-E. The goal is to extract vivid, action-packed scenes that would make for visually compelling images. Please provide detailed prompts describing these actions without summarizing the chunks of text. Replace the SCP-### with a descriptive name that works better for image generation  Here is the text:\"\n",
    "\n",
    "    with open(saveFolder+'\\\\script.txt', 'w',encoding='utf-8') as file:\n",
    "        for i in lines_before_end:\n",
    "            file.write(i)\n",
    "            script = script + ' ' + i\n",
    "    selectGPTChatAndUsePrompt(chatgpt,'Image Prompts for DALL-E',setup_prompt, script)\n",
    "\n",
    "\n",
    "\n",
    "def collectIMGPromptsActions(chatgpt,prompts):\n",
    "    resp = chatgpt.driver.find_elements(by=By.CSS_SELECTOR, value='[data-message-id]')\n",
    "    respneeded = resp[-1].text\n",
    "    # Split the text into lines\n",
    "    lines = respneeded.split('\\n')\n",
    "    \n",
    "    # Get all lines except the first one\n",
    "    lines_after_first = lines[1:]\n",
    "    prompts = []\n",
    "    for i in lines_after_first:\n",
    "        if len(i) > 200:\n",
    "            prompts.append(i)\n",
    "    # Join the lines back into a single string\n",
    "    print(prompts)\n",
    "    return prompts\n",
    "    \n",
    "\n",
    "def collectIMGPrompts(chatgpt):\n",
    "    prompts = []\n",
    "    prompts = collectIMGPromptsActions(chatgpt,prompts)\n",
    "    chatgpt.driver.find_element(\"id\", \"prompt-textarea\").send_keys(\"make me more prompts\")\n",
    "    chatgpt.driver.find_element(\"id\", \"prompt-textarea\").send_keys(Keys.ENTER)\n",
    "    time.sleep(33)\n",
    "    prompts = collectIMGPromptsActions(chatgpt,prompts)\n",
    "    return prompts\n",
    "\n"
   ]
  },
  {
   "cell_type": "code",
   "execution_count": 2,
   "metadata": {},
   "outputs": [
    {
     "name": "stdout",
     "output_type": "stream",
     "text": [
      "You need to manually complete the log-in or the human verification if required.\n",
      "REE\n",
      "Continuing with the automation process...\n"
     ]
    }
   ],
   "source": [
    "\n",
    "    \n",
    "# Define the path where the chrome driver is installed on your computer\n",
    "chrome_driver_path = r\"C:\\Users\\Abdul\\chromedriver.exe\"\n",
    "\n",
    "# the sintax r'\"...\"' is required because the space in \"Program Files\" in the chrome path\n",
    "chrome_path = r'\"C:\\Program Files\\Google\\Chrome\\Application\\chrome.exe\"'\n",
    "scp='104'\n",
    "# Create an instance\n",
    "chatgpt = ChatGPTAutomation(chrome_path, chrome_driver_path)\n",
    "projectFolder= f'C:\\\\Users\\\\Abdul\\\\Videos\\\\Youtube\\\\SCP_Channel\\\\{scp}'\n",
    "os.makedirs(projectFolder+'\\\\photos', exist_ok=True)\n",
    "driver = chatgpt.driver\n",
    "\n"
   ]
  },
  {
   "cell_type": "code",
   "execution_count": 59,
   "metadata": {},
   "outputs": [
    {
     "name": "stdout",
     "output_type": "stream",
     "text": [
      " SCP-023, kept in a temporary containment area during a containment breach by SCP-███ Item #: SCP-023 Object Class: Euclid Special Containment Procedures: SCP-023 is to be contained in a standard 5 x 5 m Containment Unit. SCP-023 is to be contained in a walled-off intersection of two (2) corridors at Site ██, with at least three (3) meters of space in each direction, and false doors at three (3) of the four (4) ends, in addition to the real door. Security cameras will be placed and maintained above all four (4) doors. At all times, SCP-023's eye sockets are to be filled with spherical inserts made of hard rubber. Eye inserts must be replaced as they degrade. Degradation can be monitored by measuring the brightness of the \"burning\" effect as observed by security footage. Brightness greater than twelve (12) candela requires that the inserts be replaced within twelve (12) hours. Eye inserts are only to be replaced individually, and only after the sun has completely set. Personnel are not to look directly into eye sockets of SCP-023 at any time. Following Incident 023-27 all reflective surfaces, including displays, monitors, and eye-wear of any sort are not permitted within 30 meters of SCP-023's cell. This includes monitors linked to security cameras within its enclosure. Security personnel posted at checkpoints outside both corridors will enforce and adhere to this measure. Experimentation involving SCP-023 has been suspended indefinitely. Description: SCP-023 is a large, sexless shaggy canine (1.5 meters at the shoulder) with black fur. It has bright orange-red eyes and prominent teeth (see Incident Report 023-26). Any time an individual makes eye contact with SCP-023, either that person or a member of their immediate family will die exactly one (1) year after eye contact is broken. Research into the method of selection is incomplete due to a moratorium on experiments, but the available data suggests that having a larger immediate family lessens the chance of the individual making eye contact themselves dying, and neither a pattern nor a preference in victim types have been found. This may indicate that SCP-023's victim is designated entirely at random, but it is unknown whether this selection occurs at the beginning or at the end of the one-year time period. Attempts to terminate an individual who has made eye contact with SCP-023 and their entire immediate family before the one-year time period has ended [DATA EXPUNGED]. Autopsies of individuals killed by SCP-023's effect show that, while outwardly appearing unharmed, their remains have been 'filled in' with highly compacted ash, including but not limited to all organ systems and the circulatory system. Muscle tissue, bones, and brain tissue universally show signs of exposure to temperatures above ██°C. If not contained in a setting that at least superficially resembles a \"crossroads\", SCP-023 will phase through walls to get to the nearest suitable location, incinerating all materials it passes through. SCP-023 was first brought to the Foundation's attention when it attacked a church in ███████ while it was in session, killing █ civilians directly and [REDACTED] as a result of eye contact. Following retrieval of SCP-023, Class-B amnestics were administered to all witnesses and surviving victims. The incident was covered up as a case of arson. Addendum 023-001 SCP-023 broke containment on ██/██/████ by passing through its cell wall (Incident 023-01). SCP-023 was later discovered at the intersection of two (2) corridors elsewhere on Site-███. Agent █████ noted SCP-023's similarity to a [REDACTED]. Special Containment Procedures for SCP-023 updated. Assistant Researcher ███████ issued a reprimand for negligence. Addendum 023-002 SCP-023 has been responsible for the deaths of ███ personnel and ██ civilians since it was first brought into containment on 10/12/██94. Addendum 023-003: Request for reclassification to Keter pending. Addendum 023-004: Due to both anomalies focusing on specific geographic spaces, their destructive capabilities, and canine appearance, it is possible that SCP-1111-1 may be a variant of the same phenomenon observed in SCP-023, or vice versa. Investigation into the origin of both anomalies is ongoing. Due to the inability to capture SCP-1111-1 for study, investigations are currently focused on SCP-023.\n"
     ]
    }
   ],
   "source": [
    "\n",
    "\n",
    "doSCPImgPromptFromURL(f'https://scp-wiki.wikidot.com/scp-{scp}',chatgpt,projectFolder)\n",
    "time.sleep(30)\n",
    "promptList= collectIMGPrompts(chatgpt)\n",
    "\n",
    "clickme = chatgpt.driver.find_element(by=By.XPATH, value=f\"//div[contains(text(), 'Dalle Photos for Animations')]\")\n",
    "clickme.click()\n",
    "time.sleep(10)\n",
    "chatgpt.makeImageFromList(projectFolder,promptList)\n",
    "\n",
    "chatgpt.quit()"
   ]
  },
  {
   "cell_type": "code",
   "execution_count": 7,
   "metadata": {},
   "outputs": [],
   "source": [
    "clickme = chatgpt.driver.find_element(by=By.XPATH, value=f\"//div[contains(text(), 'Dalle Photos for Animations')]\")\n",
    "clickme.click()"
   ]
  },
  {
   "cell_type": "code",
   "execution_count": 5,
   "metadata": {},
   "outputs": [],
   "source": [
    "\n",
    "resp = chatgpt.return_last_response_element()\n",
    "respneeded = resp.text\n",
    "# Split the text into lines\n",
    "lines = respneeded.split('\\n')\n",
    "lines_after_first = lines[1:]\n",
    "lines_before_end = lines_after_first[:-2]"
   ]
  },
  {
   "cell_type": "code",
   "execution_count": 8,
   "metadata": {},
   "outputs": [
    {
     "name": "stdout",
     "output_type": "stream",
     "text": [
      "GLaDOS (narrator): (In a calm, robotic tone) Welcome, test subjects, to another enlightening exploration of the anomalous. Today, we delve into the mysteries of SCP-104, a sphere that defies conventional understanding and presents unique challenges to our research.\n",
      "[Transition to a still image of SCP-104 in its steel containment box]\n",
      "GLaDOS: SCP-104 is classified as Euclid. It is currently contained in a steel box with electronic keypad access, restricted to Class 3 personnel and higher. Direct contact with any living tissue is strictly prohibited. Interaction with SCP-104 must be conducted via robotic assistance or with full haz-mat suits and gloves.\n",
      "[Show image of SCP-104, a sphere with intricate black and white lines under a glass layer]\n",
      "GLaDOS: SCP-104 is a 35.5 cm (14 inches) sphere, weighing 2.3 kg (5 pounds). Its exterior is smooth glass, encasing an intricate design of thin black and white lines on a wooden core. The design is so complex that it seems to form a Rorschach test, as all viewers interpret it differently. Reports of movement or ticking sounds from within SCP-104 remain unconfirmed.\n",
      "[Test Log 104-Alpha]\n",
      "[Show image of a robotic arm interacting with SCP-104]\n",
      "GLaDOS: Test Log 104-Alpha: When a human touches SCP-104 in its unimprinted state, it imprints on the subject. If the imprinted subject moves more than 9 meters (30 feet) away for over five minutes, SCP-104 will reappear within 2 meters (7 feet) of the subject, instantaneously, regardless of distance or intervening objects.\n",
      "[Test Log 104-Beta]\n",
      "[Image of SCP-104 moving closer to an imprinted subject]\n",
      "GLaDOS: Test Log 104-Beta: SCP-104 moves one foot closer to its imprinted subject every hour until it is in direct contact. It exhibits this behavior exclusively with its imprinted subject. Non-imprinted individuals are unaffected, and SCP-104 only imprints on one subject at a time.\n",
      "[Test Log 104-Gamma]\n",
      "[Show image of SCP-104 being crushed and incinerated]\n",
      "GLaDOS: Test Log 104-Gamma: SCP-104 appears indestructible. After being crushed and incinerated, it reappears whole and undamaged if its imprinted subject is beyond its minimum range for over five minutes. The sphere's behavior does not change even when tested with multiple genetically identical subjects, indicating that the imprinting is not genetically based.\n",
      "[Show text: \"Proposed Future Tests\"]\n",
      "GLaDOS: Proposed Future Tests:\n",
      "[Test Proposal 104-Delta: Psychological Impact Study]\n",
      "Objective: To analyze the psychological effects of prolonged exposure to SCP-104 on imprinted subjects.\n",
      "Procedure: Select a group of test subjects and monitor their mental health and behavioral changes over extended periods of SCP-104 proximity. Evaluate levels of paranoia, anger, and stress.\n",
      "[Show image of subjects undergoing psychological evaluations]\n",
      "GLaDOS: Hypothesis: Understanding the psychological impact of SCP-104 may reveal patterns or coping mechanisms to mitigate its effects.\n",
      "[Test Proposal 104-Epsilon: Imprinting Mechanism Investigation]\n",
      "Objective: To determine the exact mechanism of SCP-104's imprinting process.\n",
      "Procedure: Utilize various materials and barriers during contact attempts to identify which elements prevent or influence the imprinting. Include detailed analysis using high-resolution imaging and spectroscopy.\n",
      "[Show image of researchers using advanced imaging techniques]\n",
      "GLaDOS: Hypothesis: Deciphering the imprinting mechanism could lead to the development of more effective containment measures or even methods to control SCP-104's behavior.\n",
      "[Test Proposal 104-Zeta: Dimensional Analysis]\n",
      "Objective: To explore the possibility of SCP-104 being an extra-dimensional probe or recording device.\n",
      "Procedure: Conduct thorough material analysis and use advanced quantum physics experiments to detect any anomalous properties or inter-dimensional connections.\n",
      "[Show image of a laboratory with complex equipment]\n",
      "GLaDOS: Hypothesis: Confirming or refuting the theory of SCP-104 as an extra-dimensional device could provide invaluable insights into its origin and purpose.\n",
      "[Test Proposal 104-Eta: Behavioral Conditioning]\n",
      "Objective: To test the feasibility of conditioning SCP-104's behavior.\n",
      "Procedure: Expose SCP-104 to various stimuli while it is in proximity to an imprinted subject. Record any changes in its behavior or movement patterns in response to the stimuli.\n",
      "[Show image of SCP-104 in a controlled testing environment]\n",
      "GLaDOS: Hypothesis: Understanding how SCP-104 reacts to different stimuli may offer new methods for controlling or redirecting its movements, enhancing containment protocols.\n",
      "[Test Proposal 104-Theta: Remote Observation]\n",
      "Objective: To determine the extent of SCP-104's observational capabilities, if any.\n",
      "Procedure: Use advanced surveillance technology to monitor SCP-104 while simultaneously performing unrelated tasks in its vicinity. Measure any changes in SCP-104's behavior or position in response to these activities.\n",
      "[Show image of researchers observing SCP-104 remotely]\n",
      "GLaDOS: Hypothesis: If SCP-104 possesses any form of observational capability, understanding its limitations could be crucial for preventing breaches and ensuring secure containment.\n",
      "[Show text: \"Conclusion\"]\n",
      "GLaDOS: SCP-104 presents a unique challenge, blending simplicity with complex, unpredictable behavior. Through rigorous experimentation, we aim to uncover its secrets and ensure its safe containment. The science must continue, no matter the cost.\n",
      "[Display SCP Foundation logo]\n",
      "GLaDOS: Thank you for joining us in this journey of discovery. Remember to like, subscribe, and hit the notification bell for more explorations into the unknown. Until next time, stay vigilant, stay safe, and remember—the science must continue.\n"
     ]
    }
   ],
   "source": [
    "script = ''\n",
    "for i,line in enumerate(lines_before_end):\n",
    "    print(line)            \n",
    "    script = script + ' ' + line\n",
    "        "
   ]
  },
  {
   "cell_type": "code",
   "execution_count": null,
   "metadata": {},
   "outputs": [
    {
     "name": "stdout",
     "output_type": "stream",
     "text": [
      "\n"
     ]
    }
   ],
   "source": [
    "setup_prompt = \"Turn This into a script, pretend the narrator is glados from portal have her discuss tests that were ran and tests to run. Feel free to take creative liberties, be creative and feel free to add things you think would enrich the narrative of glados and her love for brutal testing :\"\n",
    "selectGPTChatAndUsePrompt(chatgpt,'Bees Swarm Containment Procedure',setup_prompt, \"this is a test hi how are you\")"
   ]
  },
  {
   "cell_type": "code",
   "execution_count": 95,
   "metadata": {},
   "outputs": [
    {
     "name": "stdout",
     "output_type": "stream",
     "text": [
      "[<selenium.webdriver.remote.webelement.WebElement (session=\"93fafcdd68a48e7684ed3b735cd87e90\", element=\"f.1B0CEB2C73F9FB1CBF4D909375FB7BA6.d.4D3DB41E4659573EF9F209ABB1F4C7B1.e.2173\")>]\n"
     ]
    }
   ],
   "source": []
  },
  {
   "cell_type": "code",
   "execution_count": 18,
   "metadata": {},
   "outputs": [],
   "source": [
    "\n"
   ]
  },
  {
   "cell_type": "code",
   "execution_count": 17,
   "metadata": {},
   "outputs": [
    {
     "name": "stdout",
     "output_type": "stream",
     "text": [
      "1\n",
      "2\n"
     ]
    },
    {
     "ename": "NameError",
     "evalue": "name 'time' is not defined",
     "output_type": "error",
     "traceback": [
      "\u001b[1;31m---------------------------------------------------------------------------\u001b[0m",
      "\u001b[1;31mNameError\u001b[0m                                 Traceback (most recent call last)",
      "Cell \u001b[1;32mIn[17], line 2\u001b[0m\n\u001b[0;32m      1\u001b[0m driver \u001b[38;5;241m=\u001b[39m chatgpt\u001b[38;5;241m.\u001b[39mdriver\n\u001b[1;32m----> 2\u001b[0m \u001b[43mmakeImage\u001b[49m\u001b[43m(\u001b[49m\u001b[43mdriver\u001b[49m\u001b[43m)\u001b[49m\n",
      "Cell \u001b[1;32mIn[16], line 14\u001b[0m, in \u001b[0;36mmakeImage\u001b[1;34m(driver)\u001b[0m\n\u001b[0;32m     12\u001b[0m \u001b[38;5;28;01melif\u001b[39;00m i\u001b[38;5;241m%\u001b[39m\u001b[38;5;241m3\u001b[39m \u001b[38;5;241m==\u001b[39m \u001b[38;5;241m0\u001b[39m:\n\u001b[0;32m     13\u001b[0m     driver\u001b[38;5;241m.\u001b[39mfind_element(\u001b[38;5;124m\"\u001b[39m\u001b[38;5;124mid\u001b[39m\u001b[38;5;124m\"\u001b[39m, \u001b[38;5;124m\"\u001b[39m\u001b[38;5;124mprompt-textarea\u001b[39m\u001b[38;5;124m\"\u001b[39m)\u001b[38;5;241m.\u001b[39msend_keys( line \u001b[38;5;241m+\u001b[39m \u001b[38;5;124m\"\u001b[39m\u001b[38;5;130;01m\\n\u001b[39;00m\u001b[38;5;124m\"\u001b[39m)\n\u001b[1;32m---> 14\u001b[0m     \u001b[43mtime\u001b[49m\u001b[38;5;241m.\u001b[39msleep(\u001b[38;5;241m60\u001b[39m) \n\u001b[0;32m     15\u001b[0m     chatgpt\u001b[38;5;241m.\u001b[39msaveImage()\n\u001b[0;32m     16\u001b[0m     driver\u001b[38;5;241m.\u001b[39mfind_element(\u001b[38;5;124m\"\u001b[39m\u001b[38;5;124mid\u001b[39m\u001b[38;5;124m\"\u001b[39m, \u001b[38;5;124m\"\u001b[39m\u001b[38;5;124mprompt-textarea\u001b[39m\u001b[38;5;124m\"\u001b[39m)\u001b[38;5;241m.\u001b[39msend_keys(\u001b[38;5;124m'\u001b[39m\u001b[38;5;124mmake me a HD 1792x1024 image of the following text:\u001b[39m\u001b[38;5;124m'\u001b[39m)\n",
      "\u001b[1;31mNameError\u001b[0m: name 'time' is not defined"
     ]
    }
   ],
   "source": []
  },
  {
   "cell_type": "code",
   "execution_count": 27,
   "metadata": {},
   "outputs": [],
   "source": []
  }
 ],
 "metadata": {
  "kernelspec": {
   "display_name": "imggen",
   "language": "python",
   "name": "python3"
  },
  "language_info": {
   "codemirror_mode": {
    "name": "ipython",
    "version": 3
   },
   "file_extension": ".py",
   "mimetype": "text/x-python",
   "name": "python",
   "nbconvert_exporter": "python",
   "pygments_lexer": "ipython3",
   "version": "3.12.3"
  }
 },
 "nbformat": 4,
 "nbformat_minor": 2
}
